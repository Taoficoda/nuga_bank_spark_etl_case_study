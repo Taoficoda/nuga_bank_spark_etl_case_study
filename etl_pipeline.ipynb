{
 "cells": [
  {
   "cell_type": "markdown",
   "metadata": {},
   "source": [
    "#### Installing neccessary libraries"
   ]
  },
  {
   "cell_type": "code",
   "execution_count": 1,
   "metadata": {},
   "outputs": [],
   "source": [
    "# ! pip install pyspark==3.4.3\n",
    "# ! pip install pyscopg2"
   ]
  },
  {
   "cell_type": "markdown",
   "metadata": {},
   "source": [
    "### Import neccessary libraries"
   ]
  },
  {
   "cell_type": "code",
   "execution_count": 2,
   "metadata": {},
   "outputs": [],
   "source": [
    "from pyspark.sql import SparkSession\n",
    "from pyspark.sql import DataFrameWriter\n",
    "from pyspark.sql.functions import monotonically_increasing_id\n",
    "import psycopg2\n",
    "import os"
   ]
  },
  {
   "cell_type": "code",
   "execution_count": 3,
   "metadata": {},
   "outputs": [
    {
     "name": "stderr",
     "output_type": "stream",
     "text": [
      "java version \"11.0.24\" 2024-07-16 LTS\n",
      "Java(TM) SE Runtime Environment 18.9 (build 11.0.24+7-LTS-271)\n",
      "Java HotSpot(TM) 64-Bit Server VM 18.9 (build 11.0.24+7-LTS-271, mixed mode)\n"
     ]
    }
   ],
   "source": [
    "# Check Java version to know if the JDBC is compatible\n",
    "! java -version"
   ]
  },
  {
   "cell_type": "markdown",
   "metadata": {},
   "source": [
    "#### Set java home "
   ]
  },
  {
   "cell_type": "code",
   "execution_count": 4,
   "metadata": {},
   "outputs": [],
   "source": [
    "# Set java home \n",
    "os.environ['JAVA_HOME'] = 'C:/java8'\n"
   ]
  },
  {
   "cell_type": "markdown",
   "metadata": {},
   "source": [
    "### Initialize the spark session"
   ]
  },
  {
   "cell_type": "code",
   "execution_count": 5,
   "metadata": {},
   "outputs": [],
   "source": [
    "# Method 1\n",
    "#spark = SparkSession.builder \\\n",
    " #   .appName(\"Nuga Bank ETL\") \\\n",
    "#    .config(\"spark.jars\", \"postgresql-42.7.4.jar\") \\\n",
    " #   .getOrCreate()\n"
   ]
  },
  {
   "cell_type": "code",
   "execution_count": 6,
   "metadata": {},
   "outputs": [],
   "source": [
    "from pyspark.sql import SparkSession\n",
    "\n",
    "# Create a SparkSession builder and set the application name to \"Nuga Bank ETL\" for identification in the Spark UI.\n",
    "builder = SparkSession.builder.appName(\"Nuga Bank ETL\")\n",
    "\n",
    "# Configure Spark to include the PostgreSQL JDBC driver (postgresql-42.7.4.jar), allowing it to connect to a PostgreSQL database.\n",
    "builder.config('spark.jars', 'postgresql-42.7.4.jar')\n",
    "\n",
    "# Configure driver and executor memory settings to help prevent OutOfMemoryError.\n",
    "builder.config(\"spark.driver.memory\", \"4g\")         # Set driver memory to 4 GB.\n",
    "builder.config(\"spark.executor.memory\", \"4g\")       # Set executor memory to 4 GB.\n",
    "builder.config(\"spark.executor.memoryOverhead\", \"1g\")  # Set additional executor memory overhead.\n",
    "\n",
    "# Initialize the SparkSession (or retrieve an existing one if it already exists).\n",
    "spark = builder.getOrCreate()\n"
   ]
  },
  {
   "cell_type": "code",
   "execution_count": 7,
   "metadata": {},
   "outputs": [],
   "source": [
    "# Create a SparkSession builder and set the application name to \"Nuga Bank ETL\" for identification in the Spark UI.\n",
    "#builder = SparkSession.builder.appName(\"Nuga Bank ETL\")\n",
    "\n",
    "# Configure Spark to include the PostgreSQL JDBC driver (postgresql-42.7.4.jar), allowing it to connect to a PostgreSQL database.\n",
    "#builder.config('spark.jars', 'postgresql-42.7.4.jar')\n",
    "\n",
    "\n",
    "# Initialize the SparkSession (or retrieve an existing one if it already exists).\n",
    "#spark = builder.getOrCreate()\n"
   ]
  },
  {
   "cell_type": "code",
   "execution_count": 8,
   "metadata": {},
   "outputs": [
    {
     "data": {
      "text/html": [
       "\n",
       "            <div>\n",
       "                <p><b>SparkSession - in-memory</b></p>\n",
       "                \n",
       "        <div>\n",
       "            <p><b>SparkContext</b></p>\n",
       "\n",
       "            <p><a href=\"http://TAOPHIQUE:4040\">Spark UI</a></p>\n",
       "\n",
       "            <dl>\n",
       "              <dt>Version</dt>\n",
       "                <dd><code>v3.4.3</code></dd>\n",
       "              <dt>Master</dt>\n",
       "                <dd><code>local[*]</code></dd>\n",
       "              <dt>AppName</dt>\n",
       "                <dd><code>Nuga Bank ETL</code></dd>\n",
       "            </dl>\n",
       "        </div>\n",
       "        \n",
       "            </div>\n",
       "        "
      ],
      "text/plain": [
       "<pyspark.sql.session.SparkSession at 0x211bbb813a0>"
      ]
     },
     "execution_count": 8,
     "metadata": {},
     "output_type": "execute_result"
    }
   ],
   "source": [
    "spark"
   ]
  },
  {
   "cell_type": "code",
   "execution_count": 9,
   "metadata": {},
   "outputs": [],
   "source": [
    "df = spark.read.csv(r'dataset\\raw_data\\nuga_bank_transactions.csv', header=True, inferSchema=True)"
   ]
  },
  {
   "cell_type": "code",
   "execution_count": 10,
   "metadata": {},
   "outputs": [
    {
     "name": "stdout",
     "output_type": "stream",
     "text": [
      "+--------------------+------+----------------+--------------+--------------------+------------------+--------------+--------------------+--------------------+--------------------+--------------------+-------------------+------------------+--------------------+-------------+-------------+--------+-----+---------+--------------------+--------------------+------+--------------+\n",
      "|    Transaction_Date|Amount|Transaction_Type| Customer_Name|    Customer_Address|     Customer_City|Customer_State|    Customer_Country|             Company|           Job_Title|               Email|       Phone_Number|Credit_Card_Number|                IBAN|Currency_Code|Random_Number|Category|Group|Is_Active|        Last_Updated|         Description|Gender|Marital_Status|\n",
      "+--------------------+------+----------------+--------------+--------------------+------------------+--------------+--------------------+--------------------+--------------------+--------------------+-------------------+------------------+--------------------+-------------+-------------+--------+-----+---------+--------------------+--------------------+------+--------------+\n",
      "|2024-03-23 15:38:...| 34.76|      Withdrawal|    James Neal|54912 Holmes Lodg...| West Keithborough|       Florida|                Togo|Benson, Johnson a...|                null|                null|  493.720.6609x7545|  3592901394693441|GB98RBPP090285271...|          MAD|       3167.0|       C|    Z|       No|2020-06-20 03:04:...|Yeah food anythin...| Other|      Divorced|\n",
      "|2024-04-22 19:15:...|163.92|      Withdrawal|   Thomas Long| 1133 Collin Passage|        Joshuabury|   Connecticut|Lao People's Demo...|                null|   Food technologist|michellelynch@exa...|      (497)554-3317|              null|GB03KFZR339662263...|          VEF|       2122.0|       B|    Z|     null|2020-12-27 13:23:...|Teach edge make n...|Female|       Married|\n",
      "|2024-04-12 19:46:...|386.32|      Withdrawal|Ashley Shelton|5297 Johnson Port...|       North Maria|    New Jersey|              Bhutan|       Jones-Mueller|Database administ...| ljordan@example.org|      (534)769-3072|      675983949974|GB59QYRN446730519...|          COP|       7796.0|       C|    Z|       No|2020-01-24 01:23:...|Again line face c...| Other|          null|\n",
      "|2024-04-17 15:29:...|407.15|         Deposit| James Rosario|56955 Moore Glens...|North Michellefurt|    New Mexico|             Iceland|       Vargas-Harris|Horticultural the...|parkerjames@examp...|+1-447-900-1320x257|     4761202519057|GB74FTDO268299438...|          BWP|       6284.0|       C|    Z|      Yes|2023-09-27 03:01:...|     Bag my a drive.|  null|          null|\n",
      "|2024-02-10 01:51:...|161.31|         Deposit|Miguel Leonard|262 Beck Expressw...|              null| West Virginia|             Eritrea|Richardson, Gonza...|   Minerals surveyor| zweaver@example.net|               null|   213156729655186|GB94EWRN587847592...|          SOS|       9179.0|       C|    Y|       No|2022-01-22 19:08:...|Husband find ok w...|Female|       Married|\n",
      "+--------------------+------+----------------+--------------+--------------------+------------------+--------------+--------------------+--------------------+--------------------+--------------------+-------------------+------------------+--------------------+-------------+-------------+--------+-----+---------+--------------------+--------------------+------+--------------+\n",
      "only showing top 5 rows\n",
      "\n"
     ]
    }
   ],
   "source": [
    "df.show(5)"
   ]
  },
  {
   "cell_type": "code",
   "execution_count": 11,
   "metadata": {},
   "outputs": [
    {
     "name": "stdout",
     "output_type": "stream",
     "text": [
      "root\n",
      " |-- Transaction_Date: timestamp (nullable = true)\n",
      " |-- Amount: double (nullable = true)\n",
      " |-- Transaction_Type: string (nullable = true)\n",
      " |-- Customer_Name: string (nullable = true)\n",
      " |-- Customer_Address: string (nullable = true)\n",
      " |-- Customer_City: string (nullable = true)\n",
      " |-- Customer_State: string (nullable = true)\n",
      " |-- Customer_Country: string (nullable = true)\n",
      " |-- Company: string (nullable = true)\n",
      " |-- Job_Title: string (nullable = true)\n",
      " |-- Email: string (nullable = true)\n",
      " |-- Phone_Number: string (nullable = true)\n",
      " |-- Credit_Card_Number: long (nullable = true)\n",
      " |-- IBAN: string (nullable = true)\n",
      " |-- Currency_Code: string (nullable = true)\n",
      " |-- Random_Number: double (nullable = true)\n",
      " |-- Category: string (nullable = true)\n",
      " |-- Group: string (nullable = true)\n",
      " |-- Is_Active: string (nullable = true)\n",
      " |-- Last_Updated: timestamp (nullable = true)\n",
      " |-- Description: string (nullable = true)\n",
      " |-- Gender: string (nullable = true)\n",
      " |-- Marital_Status: string (nullable = true)\n",
      "\n"
     ]
    }
   ],
   "source": [
    "df.printSchema()"
   ]
  },
  {
   "cell_type": "markdown",
   "metadata": {},
   "source": [
    "### Data cleaning and transformation "
   ]
  },
  {
   "cell_type": "code",
   "execution_count": 12,
   "metadata": {},
   "outputs": [
    {
     "name": "stdout",
     "output_type": "stream",
     "text": [
      "Transaction_Date column nulls values count:  0\n",
      "Amount column nulls values count:  0\n",
      "Transaction_Type column nulls values count:  0\n",
      "Customer_Name column nulls values count:  100425\n",
      "Customer_Address column nulls values count:  100087\n",
      "Customer_City column nulls values count:  100034\n",
      "Customer_State column nulls values count:  100009\n",
      "Customer_Country column nulls values count:  100672\n",
      "Company column nulls values count:  100295\n",
      "Job_Title column nulls values count:  99924\n",
      "Email column nulls values count:  100043\n",
      "Phone_Number column nulls values count:  100524\n",
      "Credit_Card_Number column nulls values count:  100085\n",
      "IBAN column nulls values count:  100300\n",
      "Currency_Code column nulls values count:  99342\n",
      "Random_Number column nulls values count:  99913\n",
      "Category column nulls values count:  100332\n",
      "Group column nulls values count:  100209\n",
      "Is_Active column nulls values count:  100259\n",
      "Last_Updated column nulls values count:  100321\n",
      "Description column nulls values count:  100403\n",
      "Gender column nulls values count:  99767\n",
      "Marital_Status column nulls values count:  99904\n"
     ]
    }
   ],
   "source": [
    "# Data cleaning and transformation \n",
    "\n",
    "for column in df.columns:\n",
    "    print(column , 'column nulls values count: ',df.filter(df[column].isNull()).count())"
   ]
  },
  {
   "cell_type": "code",
   "execution_count": 13,
   "metadata": {},
   "outputs": [
    {
     "name": "stdout",
     "output_type": "stream",
     "text": [
      "+-------+-----------------+----------------+-------------+--------------------+-------------+--------------+----------------+-------------+------------------+-------------------+-------------------+--------------------+--------------------+-------------+-----------------+--------+------+---------+--------------------+------+--------------+\n",
      "|summary|           Amount|Transaction_Type|Customer_Name|    Customer_Address|Customer_City|Customer_State|Customer_Country|      Company|         Job_Title|              Email|       Phone_Number|  Credit_Card_Number|                IBAN|Currency_Code|    Random_Number|Category| Group|Is_Active|         Description|Gender|Marital_Status|\n",
      "+-------+-----------------+----------------+-------------+--------------------+-------------+--------------+----------------+-------------+------------------+-------------------+-------------------+--------------------+--------------------+-------------+-----------------+--------+------+---------+--------------------+------+--------------+\n",
      "|  count|          1000000|         1000000|       899575|              899913|       899966|        899991|          899328|       899705|            900076|             899957|             899476|              899915|              899700|       900658|           900087|  899668|899791|   899741|              899597|900233|        900096|\n",
      "|   mean|504.9737112199999|            null|         null|                null|         null|          null|            null|         null|              null|               null| 6.00341888622502E9|3.785330130644789...|                null|         null|5504.445295843624|    null|  null|     null|                null|  null|          null|\n",
      "| stddev|285.7997202441225|            null|         null|                null|         null|          null|            null|         null|              null|               null|2.307111981222392E9|1.247765855631418...|                null|         null|2598.168084374122|    null|  null|     null|                null|  null|          null|\n",
      "|    min|             10.0|         Deposit| Aaron Abbott|000 Aaron Landing...|    Aaronberg|       Alabama|     Afghanistan| Abbott Group|Academic librarian|aabbott@example.com|      (200)201-4254|         60400015693|GB02AAAU191993009...|          AED|           1000.0|       A|     X|       No|A American and to...|Female|      Divorced|\n",
      "|    max|           1000.0|      Withdrawal|    Zoe Young|    99999 Mark Vista|  Zunigaville|       Wyoming|        Zimbabwe|Zuniga-Wilson|      Youth worker|zzuniga@example.org|         9999777682| 4999984361512569455|GB98ZZXM257326775...|          ZWD|           9999.0|       D|     Z|      Yes|Yourself young ev...| Other|        Single|\n",
      "+-------+-----------------+----------------+-------------+--------------------+-------------+--------------+----------------+-------------+------------------+-------------------+-------------------+--------------------+--------------------+-------------+-----------------+--------+------+---------+--------------------+------+--------------+\n",
      "\n"
     ]
    }
   ],
   "source": [
    "df.describe().show()"
   ]
  },
  {
   "cell_type": "code",
   "execution_count": 14,
   "metadata": {},
   "outputs": [],
   "source": [
    "#fill up the missing values\n",
    "\n",
    "df_clean = df.fillna({\n",
    "    'Customer_Name': 'Unknown',\n",
    "    'Customer_Address':'Unknown',\n",
    "    'Customer_City':'Unknown',\n",
    "    'Customer_State':'Unknown',\n",
    "    'Customer_Country':'Unknown',\n",
    "    'Company':'Unknown',\n",
    "    'Job_Title':'Unknown',\n",
    "    'Phone_Number':'Unknown',\n",
    "    'Credit_Card_Number':0,\n",
    "    'IBAN':'Unknown',\n",
    "    'Currency_Code':'Unknown',\n",
    "    'Email':'Unknown',\n",
    "    'Random_Number':0.0,\n",
    "    'Category':'Unknown',\n",
    "    'Group':'Unknown',\n",
    "    'Is_Active':'Unknown',\n",
    "    'Marital_Status':'Unknown',\n",
    "    'Description':'Unknown',\n",
    "    'Gender':'Unknown',\n",
    "    })"
   ]
  },
  {
   "cell_type": "code",
   "execution_count": 15,
   "metadata": {},
   "outputs": [
    {
     "name": "stdout",
     "output_type": "stream",
     "text": [
      "Transaction_Date column nulls values count:  0\n",
      "Amount column nulls values count:  0\n",
      "Transaction_Type column nulls values count:  0\n",
      "Customer_Name column nulls values count:  0\n",
      "Customer_Address column nulls values count:  0\n",
      "Customer_City column nulls values count:  0\n",
      "Customer_State column nulls values count:  0\n",
      "Customer_Country column nulls values count:  0\n",
      "Company column nulls values count:  0\n",
      "Job_Title column nulls values count:  0\n",
      "Email column nulls values count:  0\n",
      "Phone_Number column nulls values count:  0\n",
      "Credit_Card_Number column nulls values count:  0\n",
      "IBAN column nulls values count:  0\n",
      "Currency_Code column nulls values count:  0\n",
      "Random_Number column nulls values count:  0\n",
      "Category column nulls values count:  0\n",
      "Group column nulls values count:  0\n",
      "Is_Active column nulls values count:  0\n",
      "Last_Updated column nulls values count:  100321\n",
      "Description column nulls values count:  0\n",
      "Gender column nulls values count:  0\n",
      "Marital_Status column nulls values count:  0\n"
     ]
    }
   ],
   "source": [
    "for column in df_clean.columns:\n",
    "    print(column , 'column nulls values count: ',df_clean.filter(df_clean[column].isNull()).count())"
   ]
  },
  {
   "cell_type": "code",
   "execution_count": 16,
   "metadata": {},
   "outputs": [],
   "source": [
    "df_clean = df.na.drop(subset='Last_Updated')"
   ]
  },
  {
   "cell_type": "code",
   "execution_count": 17,
   "metadata": {},
   "outputs": [
    {
     "name": "stdout",
     "output_type": "stream",
     "text": [
      "+--------------------+------+----------------+--------------+--------------------+--------------------+--------------+--------------------+--------------------+--------------------+--------------------+-------------------+-------------------+--------------------+-------------+-------------+--------+-----+---------+--------------------+--------------------+------+--------------+\n",
      "|    Transaction_Date|Amount|Transaction_Type| Customer_Name|    Customer_Address|       Customer_City|Customer_State|    Customer_Country|             Company|           Job_Title|               Email|       Phone_Number| Credit_Card_Number|                IBAN|Currency_Code|Random_Number|Category|Group|Is_Active|        Last_Updated|         Description|Gender|Marital_Status|\n",
      "+--------------------+------+----------------+--------------+--------------------+--------------------+--------------+--------------------+--------------------+--------------------+--------------------+-------------------+-------------------+--------------------+-------------+-------------+--------+-----+---------+--------------------+--------------------+------+--------------+\n",
      "|2024-03-23 15:38:...| 34.76|      Withdrawal|    James Neal|54912 Holmes Lodg...|   West Keithborough|       Florida|                Togo|Benson, Johnson a...|                null|                null|  493.720.6609x7545|   3592901394693441|GB98RBPP090285271...|          MAD|       3167.0|       C|    Z|       No|2020-06-20 03:04:...|Yeah food anythin...| Other|      Divorced|\n",
      "|2024-04-22 19:15:...|163.92|      Withdrawal|   Thomas Long| 1133 Collin Passage|          Joshuabury|   Connecticut|Lao People's Demo...|                null|   Food technologist|michellelynch@exa...|      (497)554-3317|               null|GB03KFZR339662263...|          VEF|       2122.0|       B|    Z|     null|2020-12-27 13:23:...|Teach edge make n...|Female|       Married|\n",
      "|2024-04-12 19:46:...|386.32|      Withdrawal|Ashley Shelton|5297 Johnson Port...|         North Maria|    New Jersey|              Bhutan|       Jones-Mueller|Database administ...| ljordan@example.org|      (534)769-3072|       675983949974|GB59QYRN446730519...|          COP|       7796.0|       C|    Z|       No|2020-01-24 01:23:...|Again line face c...| Other|          null|\n",
      "|2024-04-17 15:29:...|407.15|         Deposit| James Rosario|56955 Moore Glens...|  North Michellefurt|    New Mexico|             Iceland|       Vargas-Harris|Horticultural the...|parkerjames@examp...|+1-447-900-1320x257|      4761202519057|GB74FTDO268299438...|          BWP|       6284.0|       C|    Z|      Yes|2023-09-27 03:01:...|     Bag my a drive.|  null|          null|\n",
      "|2024-02-10 01:51:...|161.31|         Deposit|Miguel Leonard|262 Beck Expressw...|                null| West Virginia|             Eritrea|Richardson, Gonza...|   Minerals surveyor| zweaver@example.net|               null|    213156729655186|GB94EWRN587847592...|          SOS|       9179.0|       C|    Y|       No|2022-01-22 19:08:...|Husband find ok w...|Female|       Married|\n",
      "|2024-02-10 22:56:...|764.34|        Transfer|   Jesse Clark|      194 Derek Burg|        Wallacemouth|    New Mexico|             Estonia|           Smith Ltd| Seismic interpreter|benjaminwalker@ex...|   229-511-2530x870|       501851472974|                null|          ZWD|         null|       B|    Z|      Yes|2023-02-18 19:26:...|                null| Other|       Married|\n",
      "|2024-04-07 00:07:...|734.59|         Deposit|    Mark Estes|4077 James Lane A...|      Williamsonport|      Michigan|Antarctica (the t...|         Wade-Kelley|  Surveyor, minerals|karenrobinson@exa...|      (840)334-1610|4543690154172468535|GB55FCPC779828821...|          CAD|       7304.0|       A|    X|      Yes|2020-10-27 16:48:...|Standard prepare ...|  Male|          null|\n",
      "|2024-03-08 01:51:...|592.43|         Deposit|    Kelly Ruiz|                null|          New Lauren|          null|                null|                null|Medical laborator...|  iestes@example.org| 495.430.4276x42618|      4500718397537|GB78FDAJ595830659...|          RON|       2445.0|       B|    X|       No|2022-11-19 08:59:...|                null|Female|        Single|\n",
      "|2024-02-01 12:34:...| 927.1|         Deposit|     Brad Yang|    579 Nolan Harbor|South Christopher...|  South Dakota|                null|         Lindsey LLC|Programmer, appli...|maryduran@example...|  (241)738-0972x658|    180039947294310|GB48WNWB013807482...|          HRK|       3061.0|       B|    X|       No|2020-08-31 20:40:...|Notice paper son ...|Female|        Single|\n",
      "|2024-03-22 16:46:...| 66.59|        Transfer|Dalton Jimenez|4330 Christine Vista|        Port Kirsten|          null|            Cameroon|         Carroll LLC|                null|                null|       670-499-0309|    213171934267032|GB05MHXA361278613...|          BAM|       3958.0|    null| null|      Yes|2022-09-19 03:52:...|He wish soldier t...|  Male|        Single|\n",
      "+--------------------+------+----------------+--------------+--------------------+--------------------+--------------+--------------------+--------------------+--------------------+--------------------+-------------------+-------------------+--------------------+-------------+-------------+--------+-----+---------+--------------------+--------------------+------+--------------+\n",
      "only showing top 10 rows\n",
      "\n"
     ]
    }
   ],
   "source": [
    "df_clean.show(10)"
   ]
  },
  {
   "cell_type": "markdown",
   "metadata": {},
   "source": [
    "### Data Transformation"
   ]
  },
  {
   "cell_type": "markdown",
   "metadata": {},
   "source": [
    "#### Transcation Table"
   ]
  },
  {
   "cell_type": "code",
   "execution_count": 18,
   "metadata": {},
   "outputs": [],
   "source": [
    "# Data Transformation to 2NF\n",
    "# Transcation Table\n",
    "\n",
    "transaction = df_clean.select('Transaction_Date','Amount','Transaction_Type',) \\\n",
    "      .withColumn('transaction_id',monotonically_increasing_id())\\\n",
    "            .select('transaction_id','Transaction_Date','Amount','Transaction_Type')\n"
   ]
  },
  {
   "cell_type": "code",
   "execution_count": 19,
   "metadata": {},
   "outputs": [
    {
     "name": "stdout",
     "output_type": "stream",
     "text": [
      "+--------------+--------------------+------+----------------+\n",
      "|transaction_id|    Transaction_Date|Amount|Transaction_Type|\n",
      "+--------------+--------------------+------+----------------+\n",
      "|             0|2024-03-23 15:38:...| 34.76|      Withdrawal|\n",
      "|             1|2024-04-22 19:15:...|163.92|      Withdrawal|\n",
      "|             2|2024-04-12 19:46:...|386.32|      Withdrawal|\n",
      "+--------------+--------------------+------+----------------+\n",
      "only showing top 3 rows\n",
      "\n"
     ]
    }
   ],
   "source": [
    "transaction.show(3)"
   ]
  },
  {
   "cell_type": "markdown",
   "metadata": {},
   "source": [
    "#### Customer Table"
   ]
  },
  {
   "cell_type": "code",
   "execution_count": 20,
   "metadata": {},
   "outputs": [],
   "source": [
    "\n",
    "customer = df_clean.select('Customer_Name','Customer_Address','Customer_City','Customer_State','Customer_Country')\\\n",
    "      .withColumn('Customer_id',monotonically_increasing_id())\\\n",
    "            .select('Customer_id','Customer_Name','Customer_Address','Customer_City','Customer_State','Customer_Country')"
   ]
  },
  {
   "cell_type": "markdown",
   "metadata": {},
   "source": [
    "#### Employee Table"
   ]
  },
  {
   "cell_type": "code",
   "execution_count": 21,
   "metadata": {},
   "outputs": [],
   "source": [
    "employee = df_clean.select('Company','Job_Title','Email','Phone_Number','Gender','Marital_Status')\\\n",
    "      .withColumn('Employee_ID',monotonically_increasing_id())\\\n",
    "            .select('Employee_ID','Company','Job_Title','Email','Phone_Number','Gender','Marital_Status')"
   ]
  },
  {
   "cell_type": "code",
   "execution_count": 22,
   "metadata": {},
   "outputs": [
    {
     "name": "stdout",
     "output_type": "stream",
     "text": [
      "+-----------+--------------------+--------------------+--------------------+-----------------+------+--------------+\n",
      "|Employee_ID|             Company|           Job_Title|               Email|     Phone_Number|Gender|Marital_Status|\n",
      "+-----------+--------------------+--------------------+--------------------+-----------------+------+--------------+\n",
      "|          0|Benson, Johnson a...|                null|                null|493.720.6609x7545| Other|      Divorced|\n",
      "|          1|                null|   Food technologist|michellelynch@exa...|    (497)554-3317|Female|       Married|\n",
      "|          2|       Jones-Mueller|Database administ...| ljordan@example.org|    (534)769-3072| Other|          null|\n",
      "+-----------+--------------------+--------------------+--------------------+-----------------+------+--------------+\n",
      "only showing top 3 rows\n",
      "\n"
     ]
    }
   ],
   "source": [
    "employee.show(3)"
   ]
  },
  {
   "cell_type": "code",
   "execution_count": 23,
   "metadata": {},
   "outputs": [],
   "source": [
    "nuga_fact_table = df_clean.join(transaction,['Transaction_Date','Amount','Transaction_Type'], 'inner')\\\n",
    "      .join(customer,['Customer_Name','Customer_Address','Customer_City','Customer_State','Customer_Country'],'inner')\\\n",
    "            .join(employee,['Company','Job_Title','Email','Phone_Number','Gender','Marital_Status'], 'inner')\\\n",
    "                  .select('transaction_id','Customer_id','Employee_ID','Credit_Card_Number','IBAN','Currency_Code','Random_Number','Category','Group','Is_Active','Description')"
   ]
  },
  {
   "cell_type": "code",
   "execution_count": 24,
   "metadata": {},
   "outputs": [
    {
     "name": "stdout",
     "output_type": "stream",
     "text": [
      "+--------------+------------+------------+-------------------+--------------------+-------------+-------------+--------+-----+---------+--------------------+\n",
      "|transaction_id| Customer_id| Employee_ID| Credit_Card_Number|                IBAN|Currency_Code|Random_Number|Category|Group|Is_Active|         Description|\n",
      "+--------------+------------+------------+-------------------+--------------------+-------------+-------------+--------+-----+---------+--------------------+\n",
      "|   85899354390| 85899354390| 85899354390|     30565776801553|GB48OGJL208986217...|          LAK|       7531.0|       C|    X|       No|Drop safe reality...|\n",
      "|  146028907673|146028907673|146028907673|4011861817549921250|GB67MVIJ278612925...|          AED|       7376.0|       B|    X|       No| Boy life what east.|\n",
      "|   25769821026| 25769821026| 25769821026|   3502762719193767|GB87UKWM952997799...|          GHS|       3365.0|       A|    Z|      Yes|                null|\n",
      "+--------------+------------+------------+-------------------+--------------------+-------------+-------------+--------+-----+---------+--------------------+\n",
      "only showing top 3 rows\n",
      "\n"
     ]
    }
   ],
   "source": [
    "nuga_fact_table.show(3)"
   ]
  },
  {
   "cell_type": "code",
   "execution_count": null,
   "metadata": {},
   "outputs": [],
   "source": []
  }
 ],
 "metadata": {
  "kernelspec": {
   "display_name": "Python 3",
   "language": "python",
   "name": "python3"
  },
  "language_info": {
   "codemirror_mode": {
    "name": "ipython",
    "version": 3
   },
   "file_extension": ".py",
   "mimetype": "text/x-python",
   "name": "python",
   "nbconvert_exporter": "python",
   "pygments_lexer": "ipython3",
   "version": "3.12.0"
  }
 },
 "nbformat": 4,
 "nbformat_minor": 2
}
